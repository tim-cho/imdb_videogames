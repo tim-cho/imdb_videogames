{
 "cells": [
  {
   "cell_type": "code",
   "execution_count": 1,
   "id": "889593e0",
   "metadata": {
    "execution": {
     "iopub.execute_input": "2022-10-16T03:57:35.646612Z",
     "iopub.status.busy": "2022-10-16T03:57:35.646026Z",
     "iopub.status.idle": "2022-10-16T03:57:38.935485Z",
     "shell.execute_reply": "2022-10-16T03:57:38.934240Z"
    },
    "papermill": {
     "duration": 3.30388,
     "end_time": "2022-10-16T03:57:38.938472",
     "exception": false,
     "start_time": "2022-10-16T03:57:35.634592",
     "status": "completed"
    },
    "tags": []
   },
   "outputs": [
    {
     "name": "stderr",
     "output_type": "stream",
     "text": [
      "/opt/conda/lib/python3.7/site-packages/geopandas/_compat.py:115: UserWarning:\n",
      "\n",
      "The Shapely GEOS version (3.9.1-CAPI-1.14.2) is incompatible with the GEOS version PyGEOS was compiled with (3.10.1-CAPI-1.16.0). Conversions between both will be slow.\n",
      "\n"
     ]
    },
    {
     "data": {
      "text/html": [
       "        <script type=\"text/javascript\">\n",
       "        window.PlotlyConfig = {MathJaxConfig: 'local'};\n",
       "        if (window.MathJax && window.MathJax.Hub && window.MathJax.Hub.Config) {window.MathJax.Hub.Config({SVG: {font: \"STIX-Web\"}});}\n",
       "        if (typeof require !== 'undefined') {\n",
       "        require.undef(\"plotly\");\n",
       "        requirejs.config({\n",
       "            paths: {\n",
       "                'plotly': ['https://cdn.plot.ly/plotly-2.14.0.min']\n",
       "            }\n",
       "        });\n",
       "        require(['plotly'], function(Plotly) {\n",
       "            window._Plotly = Plotly;\n",
       "        });\n",
       "        }\n",
       "        </script>\n",
       "        "
      ]
     },
     "metadata": {},
     "output_type": "display_data"
    },
    {
     "name": "stdout",
     "output_type": "stream",
     "text": [
      "/kaggle/input/imdb-video-games/imdb-videogames.csv\n"
     ]
    }
   ],
   "source": [
    "import numpy as np # linear algebra\n",
    "import pandas as pd # data processing, CSV file I/O (e.g. pd.read_csv)\n",
    "import matplotlib.pyplot as plt\n",
    "import seaborn as sns\n",
    "import cufflinks as cf\n",
    "import plotly.offline\n",
    "cf.go_offline()\n",
    "cf.set_config_file(offline=False, world_readable=True)\n",
    "\n",
    "import os\n",
    "for dirname, _, filenames in os.walk('/kaggle/input'):\n",
    "    for filename in filenames:\n",
    "        print(os.path.join(dirname, filename))"
   ]
  },
  {
   "cell_type": "code",
   "execution_count": 2,
   "id": "61ad97db",
   "metadata": {
    "execution": {
     "iopub.execute_input": "2022-10-16T03:57:38.957028Z",
     "iopub.status.busy": "2022-10-16T03:57:38.956566Z",
     "iopub.status.idle": "2022-10-16T03:57:39.160289Z",
     "shell.execute_reply": "2022-10-16T03:57:39.158737Z"
    },
    "papermill": {
     "duration": 0.216,
     "end_time": "2022-10-16T03:57:39.163258",
     "exception": false,
     "start_time": "2022-10-16T03:57:38.947258",
     "status": "completed"
    },
    "tags": []
   },
   "outputs": [],
   "source": [
    "imdb = pd.read_csv('/kaggle/input/imdb-video-games/imdb-videogames.csv')"
   ]
  },
  {
   "cell_type": "code",
   "execution_count": 3,
   "id": "993a788f",
   "metadata": {
    "execution": {
     "iopub.execute_input": "2022-10-16T03:57:39.182362Z",
     "iopub.status.busy": "2022-10-16T03:57:39.181279Z",
     "iopub.status.idle": "2022-10-16T03:57:39.231400Z",
     "shell.execute_reply": "2022-10-16T03:57:39.230208Z"
    },
    "papermill": {
     "duration": 0.063065,
     "end_time": "2022-10-16T03:57:39.234336",
     "exception": false,
     "start_time": "2022-10-16T03:57:39.171271",
     "status": "completed"
    },
    "tags": []
   },
   "outputs": [
    {
     "data": {
      "text/html": [
       "<div>\n",
       "<style scoped>\n",
       "    .dataframe tbody tr th:only-of-type {\n",
       "        vertical-align: middle;\n",
       "    }\n",
       "\n",
       "    .dataframe tbody tr th {\n",
       "        vertical-align: top;\n",
       "    }\n",
       "\n",
       "    .dataframe thead th {\n",
       "        text-align: right;\n",
       "    }\n",
       "</style>\n",
       "<table border=\"1\" class=\"dataframe\">\n",
       "  <thead>\n",
       "    <tr style=\"text-align: right;\">\n",
       "      <th></th>\n",
       "      <th>Unnamed: 0</th>\n",
       "      <th>year</th>\n",
       "      <th>rating</th>\n",
       "    </tr>\n",
       "  </thead>\n",
       "  <tbody>\n",
       "    <tr>\n",
       "      <th>count</th>\n",
       "      <td>20803.000000</td>\n",
       "      <td>20536.000000</td>\n",
       "      <td>11600.000000</td>\n",
       "    </tr>\n",
       "    <tr>\n",
       "      <th>mean</th>\n",
       "      <td>10401.000000</td>\n",
       "      <td>2005.568611</td>\n",
       "      <td>7.047526</td>\n",
       "    </tr>\n",
       "    <tr>\n",
       "      <th>std</th>\n",
       "      <td>6005.453161</td>\n",
       "      <td>11.846028</td>\n",
       "      <td>1.235204</td>\n",
       "    </tr>\n",
       "    <tr>\n",
       "      <th>min</th>\n",
       "      <td>0.000000</td>\n",
       "      <td>1952.000000</td>\n",
       "      <td>1.000000</td>\n",
       "    </tr>\n",
       "    <tr>\n",
       "      <th>25%</th>\n",
       "      <td>5200.500000</td>\n",
       "      <td>1997.000000</td>\n",
       "      <td>6.400000</td>\n",
       "    </tr>\n",
       "    <tr>\n",
       "      <th>50%</th>\n",
       "      <td>10401.000000</td>\n",
       "      <td>2008.000000</td>\n",
       "      <td>7.200000</td>\n",
       "    </tr>\n",
       "    <tr>\n",
       "      <th>75%</th>\n",
       "      <td>15601.500000</td>\n",
       "      <td>2016.000000</td>\n",
       "      <td>7.900000</td>\n",
       "    </tr>\n",
       "    <tr>\n",
       "      <th>max</th>\n",
       "      <td>20802.000000</td>\n",
       "      <td>2027.000000</td>\n",
       "      <td>9.700000</td>\n",
       "    </tr>\n",
       "  </tbody>\n",
       "</table>\n",
       "</div>"
      ],
      "text/plain": [
       "         Unnamed: 0          year        rating\n",
       "count  20803.000000  20536.000000  11600.000000\n",
       "mean   10401.000000   2005.568611      7.047526\n",
       "std     6005.453161     11.846028      1.235204\n",
       "min        0.000000   1952.000000      1.000000\n",
       "25%     5200.500000   1997.000000      6.400000\n",
       "50%    10401.000000   2008.000000      7.200000\n",
       "75%    15601.500000   2016.000000      7.900000\n",
       "max    20802.000000   2027.000000      9.700000"
      ]
     },
     "execution_count": 3,
     "metadata": {},
     "output_type": "execute_result"
    }
   ],
   "source": [
    "imdb.describe()"
   ]
  },
  {
   "cell_type": "code",
   "execution_count": 4,
   "id": "9cc7b24b",
   "metadata": {
    "execution": {
     "iopub.execute_input": "2022-10-16T03:57:39.253305Z",
     "iopub.status.busy": "2022-10-16T03:57:39.252829Z",
     "iopub.status.idle": "2022-10-16T03:57:39.278007Z",
     "shell.execute_reply": "2022-10-16T03:57:39.276698Z"
    },
    "papermill": {
     "duration": 0.03802,
     "end_time": "2022-10-16T03:57:39.280814",
     "exception": false,
     "start_time": "2022-10-16T03:57:39.242794",
     "status": "completed"
    },
    "tags": []
   },
   "outputs": [
    {
     "name": "stdout",
     "output_type": "stream",
     "text": [
      "<class 'pandas.core.frame.DataFrame'>\n",
      "RangeIndex: 20803 entries, 0 to 20802\n",
      "Data columns (total 17 columns):\n",
      " #   Column       Non-Null Count  Dtype  \n",
      "---  ------       --------------  -----  \n",
      " 0   Unnamed: 0   20803 non-null  int64  \n",
      " 1   name         20803 non-null  object \n",
      " 2   url          20803 non-null  object \n",
      " 3   year         20536 non-null  float64\n",
      " 4   certificate  7903 non-null   object \n",
      " 5   rating       11600 non-null  float64\n",
      " 6   votes        11600 non-null  object \n",
      " 7   plot         20803 non-null  object \n",
      " 8   Action       20803 non-null  bool   \n",
      " 9   Adventure    20803 non-null  bool   \n",
      " 10  Comedy       20803 non-null  bool   \n",
      " 11  Crime        20803 non-null  bool   \n",
      " 12  Family       20803 non-null  bool   \n",
      " 13  Fantasy      20803 non-null  bool   \n",
      " 14  Mystery      20803 non-null  bool   \n",
      " 15  Sci-Fi       20803 non-null  bool   \n",
      " 16  Thriller     20803 non-null  bool   \n",
      "dtypes: bool(9), float64(2), int64(1), object(5)\n",
      "memory usage: 1.4+ MB\n"
     ]
    }
   ],
   "source": [
    "imdb.info()"
   ]
  },
  {
   "cell_type": "code",
   "execution_count": 5,
   "id": "f8d57f30",
   "metadata": {
    "execution": {
     "iopub.execute_input": "2022-10-16T03:57:39.299748Z",
     "iopub.status.busy": "2022-10-16T03:57:39.298840Z",
     "iopub.status.idle": "2022-10-16T03:57:39.317033Z",
     "shell.execute_reply": "2022-10-16T03:57:39.315828Z"
    },
    "papermill": {
     "duration": 0.030223,
     "end_time": "2022-10-16T03:57:39.319468",
     "exception": false,
     "start_time": "2022-10-16T03:57:39.289245",
     "status": "completed"
    },
    "tags": []
   },
   "outputs": [],
   "source": [
    "imdb['votes'] = imdb['votes'].str.replace(',', '')\n",
    "imdb['votes'] = imdb['votes'].astype('float')"
   ]
  },
  {
   "cell_type": "code",
   "execution_count": 6,
   "id": "c8181538",
   "metadata": {
    "execution": {
     "iopub.execute_input": "2022-10-16T03:57:39.338492Z",
     "iopub.status.busy": "2022-10-16T03:57:39.337554Z",
     "iopub.status.idle": "2022-10-16T03:57:39.355552Z",
     "shell.execute_reply": "2022-10-16T03:57:39.354313Z"
    },
    "papermill": {
     "duration": 0.030686,
     "end_time": "2022-10-16T03:57:39.358569",
     "exception": false,
     "start_time": "2022-10-16T03:57:39.327883",
     "status": "completed"
    },
    "tags": []
   },
   "outputs": [],
   "source": [
    "imdb = imdb.drop_duplicates(subset='name', keep='first')   # some games were repeated"
   ]
  },
  {
   "cell_type": "code",
   "execution_count": 7,
   "id": "04e04214",
   "metadata": {
    "execution": {
     "iopub.execute_input": "2022-10-16T03:57:39.377627Z",
     "iopub.status.busy": "2022-10-16T03:57:39.377189Z",
     "iopub.status.idle": "2022-10-16T03:57:39.399334Z",
     "shell.execute_reply": "2022-10-16T03:57:39.398065Z"
    },
    "papermill": {
     "duration": 0.034529,
     "end_time": "2022-10-16T03:57:39.401620",
     "exception": false,
     "start_time": "2022-10-16T03:57:39.367091",
     "status": "completed"
    },
    "tags": []
   },
   "outputs": [
    {
     "data": {
      "text/html": [
       "<div>\n",
       "<style scoped>\n",
       "    .dataframe tbody tr th:only-of-type {\n",
       "        vertical-align: middle;\n",
       "    }\n",
       "\n",
       "    .dataframe tbody tr th {\n",
       "        vertical-align: top;\n",
       "    }\n",
       "\n",
       "    .dataframe thead th {\n",
       "        text-align: right;\n",
       "    }\n",
       "</style>\n",
       "<table border=\"1\" class=\"dataframe\">\n",
       "  <thead>\n",
       "    <tr style=\"text-align: right;\">\n",
       "      <th></th>\n",
       "      <th>Unnamed: 0</th>\n",
       "      <th>name</th>\n",
       "      <th>url</th>\n",
       "      <th>year</th>\n",
       "      <th>certificate</th>\n",
       "      <th>rating</th>\n",
       "      <th>votes</th>\n",
       "      <th>plot</th>\n",
       "      <th>Action</th>\n",
       "      <th>Adventure</th>\n",
       "      <th>Comedy</th>\n",
       "      <th>Crime</th>\n",
       "      <th>Family</th>\n",
       "      <th>Fantasy</th>\n",
       "      <th>Mystery</th>\n",
       "      <th>Sci-Fi</th>\n",
       "      <th>Thriller</th>\n",
       "    </tr>\n",
       "  </thead>\n",
       "  <tbody>\n",
       "    <tr>\n",
       "      <th>0</th>\n",
       "      <td>0</td>\n",
       "      <td>Spider-Man</td>\n",
       "      <td>https://www.imdb.com/title/tt5807780/?ref_=adv...</td>\n",
       "      <td>2018.0</td>\n",
       "      <td>T</td>\n",
       "      <td>9.2</td>\n",
       "      <td>20759.0</td>\n",
       "      <td>When a new villain threatens New York City, Pe...</td>\n",
       "      <td>True</td>\n",
       "      <td>True</td>\n",
       "      <td>False</td>\n",
       "      <td>False</td>\n",
       "      <td>False</td>\n",
       "      <td>True</td>\n",
       "      <td>False</td>\n",
       "      <td>False</td>\n",
       "      <td>False</td>\n",
       "    </tr>\n",
       "    <tr>\n",
       "      <th>1</th>\n",
       "      <td>1</td>\n",
       "      <td>Red Dead Redemption II</td>\n",
       "      <td>https://www.imdb.com/title/tt6161168/?ref_=adv...</td>\n",
       "      <td>2018.0</td>\n",
       "      <td>M</td>\n",
       "      <td>9.7</td>\n",
       "      <td>35703.0</td>\n",
       "      <td>Amidst the decline of the Wild West at the tur...</td>\n",
       "      <td>True</td>\n",
       "      <td>True</td>\n",
       "      <td>False</td>\n",
       "      <td>True</td>\n",
       "      <td>False</td>\n",
       "      <td>False</td>\n",
       "      <td>False</td>\n",
       "      <td>False</td>\n",
       "      <td>False</td>\n",
       "    </tr>\n",
       "    <tr>\n",
       "      <th>2</th>\n",
       "      <td>2</td>\n",
       "      <td>Grand Theft Auto V</td>\n",
       "      <td>https://www.imdb.com/title/tt2103188/?ref_=adv...</td>\n",
       "      <td>2013.0</td>\n",
       "      <td>M</td>\n",
       "      <td>9.5</td>\n",
       "      <td>59986.0</td>\n",
       "      <td>Three very different criminals team up for a s...</td>\n",
       "      <td>True</td>\n",
       "      <td>False</td>\n",
       "      <td>False</td>\n",
       "      <td>True</td>\n",
       "      <td>False</td>\n",
       "      <td>False</td>\n",
       "      <td>False</td>\n",
       "      <td>False</td>\n",
       "      <td>False</td>\n",
       "    </tr>\n",
       "  </tbody>\n",
       "</table>\n",
       "</div>"
      ],
      "text/plain": [
       "   Unnamed: 0                    name  \\\n",
       "0           0              Spider-Man   \n",
       "1           1  Red Dead Redemption II   \n",
       "2           2      Grand Theft Auto V   \n",
       "\n",
       "                                                 url    year certificate  \\\n",
       "0  https://www.imdb.com/title/tt5807780/?ref_=adv...  2018.0           T   \n",
       "1  https://www.imdb.com/title/tt6161168/?ref_=adv...  2018.0           M   \n",
       "2  https://www.imdb.com/title/tt2103188/?ref_=adv...  2013.0           M   \n",
       "\n",
       "   rating    votes                                               plot  Action  \\\n",
       "0     9.2  20759.0  When a new villain threatens New York City, Pe...    True   \n",
       "1     9.7  35703.0  Amidst the decline of the Wild West at the tur...    True   \n",
       "2     9.5  59986.0  Three very different criminals team up for a s...    True   \n",
       "\n",
       "   Adventure  Comedy  Crime  Family  Fantasy  Mystery  Sci-Fi  Thriller  \n",
       "0       True   False  False   False     True    False   False     False  \n",
       "1       True   False   True   False    False    False   False     False  \n",
       "2      False   False   True   False    False    False   False     False  "
      ]
     },
     "execution_count": 7,
     "metadata": {},
     "output_type": "execute_result"
    }
   ],
   "source": [
    "imdb.head(3)"
   ]
  },
  {
   "cell_type": "code",
   "execution_count": 8,
   "id": "2fc4a97f",
   "metadata": {
    "execution": {
     "iopub.execute_input": "2022-10-16T03:57:39.421017Z",
     "iopub.status.busy": "2022-10-16T03:57:39.420514Z",
     "iopub.status.idle": "2022-10-16T03:57:39.431028Z",
     "shell.execute_reply": "2022-10-16T03:57:39.430033Z"
    },
    "papermill": {
     "duration": 0.023303,
     "end_time": "2022-10-16T03:57:39.433528",
     "exception": false,
     "start_time": "2022-10-16T03:57:39.410225",
     "status": "completed"
    },
    "tags": []
   },
   "outputs": [],
   "source": [
    "imdb.drop(labels='url', axis=1, inplace=True)  # not helpful for analytics purposes"
   ]
  },
  {
   "cell_type": "code",
   "execution_count": 9,
   "id": "fae31913",
   "metadata": {
    "execution": {
     "iopub.execute_input": "2022-10-16T03:57:39.454392Z",
     "iopub.status.busy": "2022-10-16T03:57:39.453491Z",
     "iopub.status.idle": "2022-10-16T03:57:39.475069Z",
     "shell.execute_reply": "2022-10-16T03:57:39.473761Z"
    },
    "papermill": {
     "duration": 0.03516,
     "end_time": "2022-10-16T03:57:39.477362",
     "exception": false,
     "start_time": "2022-10-16T03:57:39.442202",
     "status": "completed"
    },
    "tags": []
   },
   "outputs": [
    {
     "data": {
      "text/html": [
       "<div>\n",
       "<style scoped>\n",
       "    .dataframe tbody tr th:only-of-type {\n",
       "        vertical-align: middle;\n",
       "    }\n",
       "\n",
       "    .dataframe tbody tr th {\n",
       "        vertical-align: top;\n",
       "    }\n",
       "\n",
       "    .dataframe thead th {\n",
       "        text-align: right;\n",
       "    }\n",
       "</style>\n",
       "<table border=\"1\" class=\"dataframe\">\n",
       "  <thead>\n",
       "    <tr style=\"text-align: right;\">\n",
       "      <th></th>\n",
       "      <th>Unnamed: 0</th>\n",
       "      <th>name</th>\n",
       "      <th>year</th>\n",
       "      <th>certificate</th>\n",
       "      <th>rating</th>\n",
       "      <th>votes</th>\n",
       "      <th>plot</th>\n",
       "      <th>Action</th>\n",
       "      <th>Adventure</th>\n",
       "      <th>Comedy</th>\n",
       "      <th>Crime</th>\n",
       "      <th>Family</th>\n",
       "      <th>Fantasy</th>\n",
       "      <th>Mystery</th>\n",
       "      <th>Sci-Fi</th>\n",
       "      <th>Thriller</th>\n",
       "    </tr>\n",
       "  </thead>\n",
       "  <tbody>\n",
       "    <tr>\n",
       "      <th>20800</th>\n",
       "      <td>20800</td>\n",
       "      <td>Shutter</td>\n",
       "      <td>2015.0</td>\n",
       "      <td>NaN</td>\n",
       "      <td>NaN</td>\n",
       "      <td>NaN</td>\n",
       "      <td>A tech support man who uses a drone to investi...</td>\n",
       "      <td>False</td>\n",
       "      <td>False</td>\n",
       "      <td>False</td>\n",
       "      <td>False</td>\n",
       "      <td>False</td>\n",
       "      <td>False</td>\n",
       "      <td>False</td>\n",
       "      <td>False</td>\n",
       "      <td>True</td>\n",
       "    </tr>\n",
       "    <tr>\n",
       "      <th>20801</th>\n",
       "      <td>20801</td>\n",
       "      <td>The Music Machine</td>\n",
       "      <td>2015.0</td>\n",
       "      <td>NaN</td>\n",
       "      <td>NaN</td>\n",
       "      <td>NaN</td>\n",
       "      <td>A young teenage girl and the ghost of a dead m...</td>\n",
       "      <td>False</td>\n",
       "      <td>False</td>\n",
       "      <td>False</td>\n",
       "      <td>False</td>\n",
       "      <td>False</td>\n",
       "      <td>False</td>\n",
       "      <td>False</td>\n",
       "      <td>False</td>\n",
       "      <td>True</td>\n",
       "    </tr>\n",
       "    <tr>\n",
       "      <th>20802</th>\n",
       "      <td>20802</td>\n",
       "      <td>Cryptic</td>\n",
       "      <td>2020.0</td>\n",
       "      <td>NaN</td>\n",
       "      <td>NaN</td>\n",
       "      <td>NaN</td>\n",
       "      <td>Kidnapped by an insane man and dragged into a ...</td>\n",
       "      <td>False</td>\n",
       "      <td>False</td>\n",
       "      <td>False</td>\n",
       "      <td>False</td>\n",
       "      <td>False</td>\n",
       "      <td>False</td>\n",
       "      <td>False</td>\n",
       "      <td>False</td>\n",
       "      <td>True</td>\n",
       "    </tr>\n",
       "  </tbody>\n",
       "</table>\n",
       "</div>"
      ],
      "text/plain": [
       "       Unnamed: 0               name    year certificate  rating  votes  \\\n",
       "20800       20800            Shutter  2015.0         NaN     NaN    NaN   \n",
       "20801       20801  The Music Machine  2015.0         NaN     NaN    NaN   \n",
       "20802       20802            Cryptic  2020.0         NaN     NaN    NaN   \n",
       "\n",
       "                                                    plot  Action  Adventure  \\\n",
       "20800  A tech support man who uses a drone to investi...   False      False   \n",
       "20801  A young teenage girl and the ghost of a dead m...   False      False   \n",
       "20802  Kidnapped by an insane man and dragged into a ...   False      False   \n",
       "\n",
       "       Comedy  Crime  Family  Fantasy  Mystery  Sci-Fi  Thriller  \n",
       "20800   False  False   False    False    False   False      True  \n",
       "20801   False  False   False    False    False   False      True  \n",
       "20802   False  False   False    False    False   False      True  "
      ]
     },
     "execution_count": 9,
     "metadata": {},
     "output_type": "execute_result"
    }
   ],
   "source": [
    "imdb.tail(3)"
   ]
  },
  {
   "cell_type": "code",
   "execution_count": 10,
   "id": "abc4e2c3",
   "metadata": {
    "execution": {
     "iopub.execute_input": "2022-10-16T03:57:39.497982Z",
     "iopub.status.busy": "2022-10-16T03:57:39.496641Z",
     "iopub.status.idle": "2022-10-16T03:57:39.527441Z",
     "shell.execute_reply": "2022-10-16T03:57:39.526303Z"
    },
    "papermill": {
     "duration": 0.043619,
     "end_time": "2022-10-16T03:57:39.530078",
     "exception": false,
     "start_time": "2022-10-16T03:57:39.486459",
     "status": "completed"
    },
    "tags": []
   },
   "outputs": [
    {
     "data": {
      "text/html": [
       "<div>\n",
       "<style scoped>\n",
       "    .dataframe tbody tr th:only-of-type {\n",
       "        vertical-align: middle;\n",
       "    }\n",
       "\n",
       "    .dataframe tbody tr th {\n",
       "        vertical-align: top;\n",
       "    }\n",
       "\n",
       "    .dataframe thead th {\n",
       "        text-align: right;\n",
       "    }\n",
       "</style>\n",
       "<table border=\"1\" class=\"dataframe\">\n",
       "  <thead>\n",
       "    <tr style=\"text-align: right;\">\n",
       "      <th></th>\n",
       "      <th>Unnamed: 0</th>\n",
       "      <th>year</th>\n",
       "      <th>rating</th>\n",
       "      <th>votes</th>\n",
       "    </tr>\n",
       "  </thead>\n",
       "  <tbody>\n",
       "    <tr>\n",
       "      <th>count</th>\n",
       "      <td>19714.000000</td>\n",
       "      <td>19454.000000</td>\n",
       "      <td>10658.000000</td>\n",
       "      <td>10658.000000</td>\n",
       "    </tr>\n",
       "    <tr>\n",
       "      <th>mean</th>\n",
       "      <td>10195.677792</td>\n",
       "      <td>2005.627120</td>\n",
       "      <td>7.005817</td>\n",
       "      <td>431.040064</td>\n",
       "    </tr>\n",
       "    <tr>\n",
       "      <th>std</th>\n",
       "      <td>5955.683969</td>\n",
       "      <td>11.824822</td>\n",
       "      <td>1.228753</td>\n",
       "      <td>1935.936669</td>\n",
       "    </tr>\n",
       "    <tr>\n",
       "      <th>min</th>\n",
       "      <td>0.000000</td>\n",
       "      <td>1952.000000</td>\n",
       "      <td>1.000000</td>\n",
       "      <td>5.000000</td>\n",
       "    </tr>\n",
       "    <tr>\n",
       "      <th>25%</th>\n",
       "      <td>5040.250000</td>\n",
       "      <td>1997.000000</td>\n",
       "      <td>6.400000</td>\n",
       "      <td>16.000000</td>\n",
       "    </tr>\n",
       "    <tr>\n",
       "      <th>50%</th>\n",
       "      <td>10149.500000</td>\n",
       "      <td>2008.000000</td>\n",
       "      <td>7.200000</td>\n",
       "      <td>43.000000</td>\n",
       "    </tr>\n",
       "    <tr>\n",
       "      <th>75%</th>\n",
       "      <td>15199.750000</td>\n",
       "      <td>2016.000000</td>\n",
       "      <td>7.800000</td>\n",
       "      <td>160.000000</td>\n",
       "    </tr>\n",
       "    <tr>\n",
       "      <th>max</th>\n",
       "      <td>20802.000000</td>\n",
       "      <td>2027.000000</td>\n",
       "      <td>9.700000</td>\n",
       "      <td>60590.000000</td>\n",
       "    </tr>\n",
       "  </tbody>\n",
       "</table>\n",
       "</div>"
      ],
      "text/plain": [
       "         Unnamed: 0          year        rating         votes\n",
       "count  19714.000000  19454.000000  10658.000000  10658.000000\n",
       "mean   10195.677792   2005.627120      7.005817    431.040064\n",
       "std     5955.683969     11.824822      1.228753   1935.936669\n",
       "min        0.000000   1952.000000      1.000000      5.000000\n",
       "25%     5040.250000   1997.000000      6.400000     16.000000\n",
       "50%    10149.500000   2008.000000      7.200000     43.000000\n",
       "75%    15199.750000   2016.000000      7.800000    160.000000\n",
       "max    20802.000000   2027.000000      9.700000  60590.000000"
      ]
     },
     "execution_count": 10,
     "metadata": {},
     "output_type": "execute_result"
    }
   ],
   "source": [
    "imdb.describe()"
   ]
  },
  {
   "cell_type": "markdown",
   "id": "9ad8a70f",
   "metadata": {
    "papermill": {
     "duration": 0.008599,
     "end_time": "2022-10-16T03:57:39.547973",
     "exception": false,
     "start_time": "2022-10-16T03:57:39.539374",
     "status": "completed"
    },
    "tags": []
   },
   "source": [
    "## Looking at the Top 10 Games in Rating and Popularity"
   ]
  },
  {
   "cell_type": "code",
   "execution_count": 11,
   "id": "4977d11b",
   "metadata": {
    "execution": {
     "iopub.execute_input": "2022-10-16T03:57:39.567797Z",
     "iopub.status.busy": "2022-10-16T03:57:39.567315Z",
     "iopub.status.idle": "2022-10-16T03:57:39.599313Z",
     "shell.execute_reply": "2022-10-16T03:57:39.598078Z"
    },
    "papermill": {
     "duration": 0.045154,
     "end_time": "2022-10-16T03:57:39.602040",
     "exception": false,
     "start_time": "2022-10-16T03:57:39.556886",
     "status": "completed"
    },
    "tags": []
   },
   "outputs": [
    {
     "data": {
      "text/html": [
       "<div>\n",
       "<style scoped>\n",
       "    .dataframe tbody tr th:only-of-type {\n",
       "        vertical-align: middle;\n",
       "    }\n",
       "\n",
       "    .dataframe tbody tr th {\n",
       "        vertical-align: top;\n",
       "    }\n",
       "\n",
       "    .dataframe thead th {\n",
       "        text-align: right;\n",
       "    }\n",
       "</style>\n",
       "<table border=\"1\" class=\"dataframe\">\n",
       "  <thead>\n",
       "    <tr style=\"text-align: right;\">\n",
       "      <th></th>\n",
       "      <th>Unnamed: 0</th>\n",
       "      <th>name</th>\n",
       "      <th>year</th>\n",
       "      <th>certificate</th>\n",
       "      <th>rating</th>\n",
       "      <th>votes</th>\n",
       "      <th>plot</th>\n",
       "      <th>Action</th>\n",
       "      <th>Adventure</th>\n",
       "      <th>Comedy</th>\n",
       "      <th>Crime</th>\n",
       "      <th>Family</th>\n",
       "      <th>Fantasy</th>\n",
       "      <th>Mystery</th>\n",
       "      <th>Sci-Fi</th>\n",
       "      <th>Thriller</th>\n",
       "    </tr>\n",
       "  </thead>\n",
       "  <tbody>\n",
       "    <tr>\n",
       "      <th>80</th>\n",
       "      <td>80</td>\n",
       "      <td>Mass Effect: Legendary Edition</td>\n",
       "      <td>2021.0</td>\n",
       "      <td>M</td>\n",
       "      <td>9.7</td>\n",
       "      <td>1583.0</td>\n",
       "      <td>A compilation of the first three Mass Effect g...</td>\n",
       "      <td>True</td>\n",
       "      <td>True</td>\n",
       "      <td>False</td>\n",
       "      <td>False</td>\n",
       "      <td>False</td>\n",
       "      <td>False</td>\n",
       "      <td>False</td>\n",
       "      <td>True</td>\n",
       "      <td>False</td>\n",
       "    </tr>\n",
       "    <tr>\n",
       "      <th>295</th>\n",
       "      <td>295</td>\n",
       "      <td>The Witcher 3: Wild Hunt - Blood and Wine</td>\n",
       "      <td>2016.0</td>\n",
       "      <td>M</td>\n",
       "      <td>9.7</td>\n",
       "      <td>7555.0</td>\n",
       "      <td>Geralt is in the southern province of Toussain...</td>\n",
       "      <td>True</td>\n",
       "      <td>True</td>\n",
       "      <td>False</td>\n",
       "      <td>False</td>\n",
       "      <td>False</td>\n",
       "      <td>False</td>\n",
       "      <td>False</td>\n",
       "      <td>False</td>\n",
       "      <td>False</td>\n",
       "    </tr>\n",
       "    <tr>\n",
       "      <th>7</th>\n",
       "      <td>7</td>\n",
       "      <td>The Last of Us</td>\n",
       "      <td>2013.0</td>\n",
       "      <td>M</td>\n",
       "      <td>9.7</td>\n",
       "      <td>60590.0</td>\n",
       "      <td>In a hostile, post-pandemic world, Joel and El...</td>\n",
       "      <td>True</td>\n",
       "      <td>True</td>\n",
       "      <td>False</td>\n",
       "      <td>False</td>\n",
       "      <td>False</td>\n",
       "      <td>False</td>\n",
       "      <td>False</td>\n",
       "      <td>False</td>\n",
       "      <td>False</td>\n",
       "    </tr>\n",
       "    <tr>\n",
       "      <th>1</th>\n",
       "      <td>1</td>\n",
       "      <td>Red Dead Redemption II</td>\n",
       "      <td>2018.0</td>\n",
       "      <td>M</td>\n",
       "      <td>9.7</td>\n",
       "      <td>35703.0</td>\n",
       "      <td>Amidst the decline of the Wild West at the tur...</td>\n",
       "      <td>True</td>\n",
       "      <td>True</td>\n",
       "      <td>False</td>\n",
       "      <td>True</td>\n",
       "      <td>False</td>\n",
       "      <td>False</td>\n",
       "      <td>False</td>\n",
       "      <td>False</td>\n",
       "      <td>False</td>\n",
       "    </tr>\n",
       "    <tr>\n",
       "      <th>28</th>\n",
       "      <td>28</td>\n",
       "      <td>The Witcher 3: Wild Hunt</td>\n",
       "      <td>2015.0</td>\n",
       "      <td>M</td>\n",
       "      <td>9.7</td>\n",
       "      <td>26083.0</td>\n",
       "      <td>A monster hunter for hire embarks on an epic j...</td>\n",
       "      <td>True</td>\n",
       "      <td>True</td>\n",
       "      <td>False</td>\n",
       "      <td>False</td>\n",
       "      <td>False</td>\n",
       "      <td>False</td>\n",
       "      <td>False</td>\n",
       "      <td>False</td>\n",
       "      <td>False</td>\n",
       "    </tr>\n",
       "    <tr>\n",
       "      <th>251</th>\n",
       "      <td>251</td>\n",
       "      <td>The Legend of Zelda: Ocarina of Time</td>\n",
       "      <td>1998.0</td>\n",
       "      <td>E</td>\n",
       "      <td>9.6</td>\n",
       "      <td>9526.0</td>\n",
       "      <td>A young Kokiri boy discovers that his destiny ...</td>\n",
       "      <td>True</td>\n",
       "      <td>True</td>\n",
       "      <td>False</td>\n",
       "      <td>False</td>\n",
       "      <td>False</td>\n",
       "      <td>True</td>\n",
       "      <td>False</td>\n",
       "      <td>False</td>\n",
       "      <td>False</td>\n",
       "    </tr>\n",
       "    <tr>\n",
       "      <th>3</th>\n",
       "      <td>3</td>\n",
       "      <td>God of War</td>\n",
       "      <td>2018.0</td>\n",
       "      <td>M</td>\n",
       "      <td>9.6</td>\n",
       "      <td>26118.0</td>\n",
       "      <td>After wiping out the gods of Mount Olympus, Kr...</td>\n",
       "      <td>True</td>\n",
       "      <td>True</td>\n",
       "      <td>False</td>\n",
       "      <td>False</td>\n",
       "      <td>False</td>\n",
       "      <td>False</td>\n",
       "      <td>False</td>\n",
       "      <td>False</td>\n",
       "      <td>False</td>\n",
       "    </tr>\n",
       "    <tr>\n",
       "      <th>151</th>\n",
       "      <td>151</td>\n",
       "      <td>Metal Gear Solid</td>\n",
       "      <td>1998.0</td>\n",
       "      <td>M</td>\n",
       "      <td>9.6</td>\n",
       "      <td>11780.0</td>\n",
       "      <td>A crack government anti-terrorist squad takes ...</td>\n",
       "      <td>True</td>\n",
       "      <td>True</td>\n",
       "      <td>False</td>\n",
       "      <td>False</td>\n",
       "      <td>False</td>\n",
       "      <td>False</td>\n",
       "      <td>False</td>\n",
       "      <td>False</td>\n",
       "      <td>False</td>\n",
       "    </tr>\n",
       "    <tr>\n",
       "      <th>209</th>\n",
       "      <td>209</td>\n",
       "      <td>Persona 5 Royal</td>\n",
       "      <td>2019.0</td>\n",
       "      <td>M</td>\n",
       "      <td>9.6</td>\n",
       "      <td>1189.0</td>\n",
       "      <td>A group of high school students create a vigil...</td>\n",
       "      <td>True</td>\n",
       "      <td>True</td>\n",
       "      <td>False</td>\n",
       "      <td>False</td>\n",
       "      <td>False</td>\n",
       "      <td>True</td>\n",
       "      <td>False</td>\n",
       "      <td>False</td>\n",
       "      <td>False</td>\n",
       "    </tr>\n",
       "    <tr>\n",
       "      <th>222</th>\n",
       "      <td>222</td>\n",
       "      <td>Star Wars: Knights of the Old Republic</td>\n",
       "      <td>2003.0</td>\n",
       "      <td>T</td>\n",
       "      <td>9.5</td>\n",
       "      <td>8600.0</td>\n",
       "      <td>A republic soldier, training to become a Jedi ...</td>\n",
       "      <td>True</td>\n",
       "      <td>True</td>\n",
       "      <td>False</td>\n",
       "      <td>False</td>\n",
       "      <td>False</td>\n",
       "      <td>True</td>\n",
       "      <td>False</td>\n",
       "      <td>False</td>\n",
       "      <td>False</td>\n",
       "    </tr>\n",
       "  </tbody>\n",
       "</table>\n",
       "</div>"
      ],
      "text/plain": [
       "     Unnamed: 0                                       name    year  \\\n",
       "80           80             Mass Effect: Legendary Edition  2021.0   \n",
       "295         295  The Witcher 3: Wild Hunt - Blood and Wine  2016.0   \n",
       "7             7                             The Last of Us  2013.0   \n",
       "1             1                     Red Dead Redemption II  2018.0   \n",
       "28           28                   The Witcher 3: Wild Hunt  2015.0   \n",
       "251         251       The Legend of Zelda: Ocarina of Time  1998.0   \n",
       "3             3                                 God of War  2018.0   \n",
       "151         151                           Metal Gear Solid  1998.0   \n",
       "209         209                            Persona 5 Royal  2019.0   \n",
       "222         222     Star Wars: Knights of the Old Republic  2003.0   \n",
       "\n",
       "    certificate  rating    votes  \\\n",
       "80            M     9.7   1583.0   \n",
       "295           M     9.7   7555.0   \n",
       "7             M     9.7  60590.0   \n",
       "1             M     9.7  35703.0   \n",
       "28            M     9.7  26083.0   \n",
       "251           E     9.6   9526.0   \n",
       "3             M     9.6  26118.0   \n",
       "151           M     9.6  11780.0   \n",
       "209           M     9.6   1189.0   \n",
       "222           T     9.5   8600.0   \n",
       "\n",
       "                                                  plot  Action  Adventure  \\\n",
       "80   A compilation of the first three Mass Effect g...    True       True   \n",
       "295  Geralt is in the southern province of Toussain...    True       True   \n",
       "7    In a hostile, post-pandemic world, Joel and El...    True       True   \n",
       "1    Amidst the decline of the Wild West at the tur...    True       True   \n",
       "28   A monster hunter for hire embarks on an epic j...    True       True   \n",
       "251  A young Kokiri boy discovers that his destiny ...    True       True   \n",
       "3    After wiping out the gods of Mount Olympus, Kr...    True       True   \n",
       "151  A crack government anti-terrorist squad takes ...    True       True   \n",
       "209  A group of high school students create a vigil...    True       True   \n",
       "222  A republic soldier, training to become a Jedi ...    True       True   \n",
       "\n",
       "     Comedy  Crime  Family  Fantasy  Mystery  Sci-Fi  Thriller  \n",
       "80    False  False   False    False    False    True     False  \n",
       "295   False  False   False    False    False   False     False  \n",
       "7     False  False   False    False    False   False     False  \n",
       "1     False   True   False    False    False   False     False  \n",
       "28    False  False   False    False    False   False     False  \n",
       "251   False  False   False     True    False   False     False  \n",
       "3     False  False   False    False    False   False     False  \n",
       "151   False  False   False    False    False   False     False  \n",
       "209   False  False   False     True    False   False     False  \n",
       "222   False  False   False     True    False   False     False  "
      ]
     },
     "execution_count": 11,
     "metadata": {},
     "output_type": "execute_result"
    }
   ],
   "source": [
    "imdb.sort_values(by='rating', ascending=False).head(10)"
   ]
  },
  {
   "cell_type": "code",
   "execution_count": 12,
   "id": "ce878666",
   "metadata": {
    "execution": {
     "iopub.execute_input": "2022-10-16T03:57:39.623082Z",
     "iopub.status.busy": "2022-10-16T03:57:39.622594Z",
     "iopub.status.idle": "2022-10-16T03:57:40.242844Z",
     "shell.execute_reply": "2022-10-16T03:57:40.241453Z"
    },
    "papermill": {
     "duration": 0.633848,
     "end_time": "2022-10-16T03:57:40.245431",
     "exception": false,
     "start_time": "2022-10-16T03:57:39.611583",
     "status": "completed"
    },
    "tags": []
   },
   "outputs": [
    {
     "data": {
      "image/png": "[encoded data removed]",
      "text/plain": [
       "<Figure size 432x288 with 1 Axes>"
      ]
     },
     "metadata": {
      "needs_background": "light"
     },
     "output_type": "display_data"
    }
   ],
   "source": [
    "rating_hist = sns.histplot(data=imdb, x='rating', binwidth=0.1).set(title='Rating Distribution')"
   ]
  },
  {
   "cell_type": "code",
   "execution_count": 13,
   "id": "e48ab11d",
   "metadata": {
    "execution": {
     "iopub.execute_input": "2022-10-16T03:57:40.267617Z",
     "iopub.status.busy": "2022-10-16T03:57:40.266594Z",
     "iopub.status.idle": "2022-10-16T03:57:40.297952Z",
     "shell.execute_reply": "2022-10-16T03:57:40.296751Z"
    },
    "papermill": {
     "duration": 0.045357,
     "end_time": "2022-10-16T03:57:40.300740",
     "exception": false,
     "start_time": "2022-10-16T03:57:40.255383",
     "status": "completed"
    },
    "tags": []
   },
   "outputs": [
    {
     "data": {
      "text/html": [
       "<div>\n",
       "<style scoped>\n",
       "    .dataframe tbody tr th:only-of-type {\n",
       "        vertical-align: middle;\n",
       "    }\n",
       "\n",
       "    .dataframe tbody tr th {\n",
       "        vertical-align: top;\n",
       "    }\n",
       "\n",
       "    .dataframe thead th {\n",
       "        text-align: right;\n",
       "    }\n",
       "</style>\n",
       "<table border=\"1\" class=\"dataframe\">\n",
       "  <thead>\n",
       "    <tr style=\"text-align: right;\">\n",
       "      <th></th>\n",
       "      <th>Unnamed: 0</th>\n",
       "      <th>name</th>\n",
       "      <th>year</th>\n",
       "      <th>certificate</th>\n",
       "      <th>rating</th>\n",
       "      <th>votes</th>\n",
       "      <th>plot</th>\n",
       "      <th>Action</th>\n",
       "      <th>Adventure</th>\n",
       "      <th>Comedy</th>\n",
       "      <th>Crime</th>\n",
       "      <th>Family</th>\n",
       "      <th>Fantasy</th>\n",
       "      <th>Mystery</th>\n",
       "      <th>Sci-Fi</th>\n",
       "      <th>Thriller</th>\n",
       "    </tr>\n",
       "  </thead>\n",
       "  <tbody>\n",
       "    <tr>\n",
       "      <th>7</th>\n",
       "      <td>7</td>\n",
       "      <td>The Last of Us</td>\n",
       "      <td>2013.0</td>\n",
       "      <td>M</td>\n",
       "      <td>9.7</td>\n",
       "      <td>60590.0</td>\n",
       "      <td>In a hostile, post-pandemic world, Joel and El...</td>\n",
       "      <td>True</td>\n",
       "      <td>True</td>\n",
       "      <td>False</td>\n",
       "      <td>False</td>\n",
       "      <td>False</td>\n",
       "      <td>False</td>\n",
       "      <td>False</td>\n",
       "      <td>False</td>\n",
       "      <td>False</td>\n",
       "    </tr>\n",
       "    <tr>\n",
       "      <th>2</th>\n",
       "      <td>2</td>\n",
       "      <td>Grand Theft Auto V</td>\n",
       "      <td>2013.0</td>\n",
       "      <td>M</td>\n",
       "      <td>9.5</td>\n",
       "      <td>59986.0</td>\n",
       "      <td>Three very different criminals team up for a s...</td>\n",
       "      <td>True</td>\n",
       "      <td>False</td>\n",
       "      <td>False</td>\n",
       "      <td>True</td>\n",
       "      <td>False</td>\n",
       "      <td>False</td>\n",
       "      <td>False</td>\n",
       "      <td>False</td>\n",
       "      <td>False</td>\n",
       "    </tr>\n",
       "    <tr>\n",
       "      <th>17</th>\n",
       "      <td>17</td>\n",
       "      <td>Grand Theft Auto: San Andreas</td>\n",
       "      <td>2004.0</td>\n",
       "      <td>M</td>\n",
       "      <td>9.4</td>\n",
       "      <td>39629.0</td>\n",
       "      <td>A family tragedy prompts gangster Carl \"CJ\" Jo...</td>\n",
       "      <td>True</td>\n",
       "      <td>False</td>\n",
       "      <td>False</td>\n",
       "      <td>True</td>\n",
       "      <td>False</td>\n",
       "      <td>False</td>\n",
       "      <td>False</td>\n",
       "      <td>False</td>\n",
       "      <td>False</td>\n",
       "    </tr>\n",
       "    <tr>\n",
       "      <th>1</th>\n",
       "      <td>1</td>\n",
       "      <td>Red Dead Redemption II</td>\n",
       "      <td>2018.0</td>\n",
       "      <td>M</td>\n",
       "      <td>9.7</td>\n",
       "      <td>35703.0</td>\n",
       "      <td>Amidst the decline of the Wild West at the tur...</td>\n",
       "      <td>True</td>\n",
       "      <td>True</td>\n",
       "      <td>False</td>\n",
       "      <td>True</td>\n",
       "      <td>False</td>\n",
       "      <td>False</td>\n",
       "      <td>False</td>\n",
       "      <td>False</td>\n",
       "      <td>False</td>\n",
       "    </tr>\n",
       "    <tr>\n",
       "      <th>41</th>\n",
       "      <td>41</td>\n",
       "      <td>Grand Theft Auto IV</td>\n",
       "      <td>2008.0</td>\n",
       "      <td>M</td>\n",
       "      <td>8.9</td>\n",
       "      <td>34553.0</td>\n",
       "      <td>Niko Bellic comes to Liberty City, America to ...</td>\n",
       "      <td>True</td>\n",
       "      <td>False</td>\n",
       "      <td>False</td>\n",
       "      <td>True</td>\n",
       "      <td>False</td>\n",
       "      <td>False</td>\n",
       "      <td>False</td>\n",
       "      <td>False</td>\n",
       "      <td>False</td>\n",
       "    </tr>\n",
       "    <tr>\n",
       "      <th>42</th>\n",
       "      <td>42</td>\n",
       "      <td>Batman: Arkham City</td>\n",
       "      <td>2011.0</td>\n",
       "      <td>T</td>\n",
       "      <td>9.4</td>\n",
       "      <td>30763.0</td>\n",
       "      <td>When part of Gotham is turned into a private r...</td>\n",
       "      <td>True</td>\n",
       "      <td>True</td>\n",
       "      <td>False</td>\n",
       "      <td>True</td>\n",
       "      <td>False</td>\n",
       "      <td>False</td>\n",
       "      <td>False</td>\n",
       "      <td>False</td>\n",
       "      <td>False</td>\n",
       "    </tr>\n",
       "    <tr>\n",
       "      <th>5</th>\n",
       "      <td>5</td>\n",
       "      <td>The Last of Us: Part II</td>\n",
       "      <td>2020.0</td>\n",
       "      <td>M</td>\n",
       "      <td>8.5</td>\n",
       "      <td>30460.0</td>\n",
       "      <td>Five years after the events of The Last of Us,...</td>\n",
       "      <td>True</td>\n",
       "      <td>True</td>\n",
       "      <td>False</td>\n",
       "      <td>False</td>\n",
       "      <td>False</td>\n",
       "      <td>False</td>\n",
       "      <td>False</td>\n",
       "      <td>False</td>\n",
       "      <td>False</td>\n",
       "    </tr>\n",
       "    <tr>\n",
       "      <th>36</th>\n",
       "      <td>36</td>\n",
       "      <td>The Elder Scrolls V: Skyrim</td>\n",
       "      <td>2011.0</td>\n",
       "      <td>M</td>\n",
       "      <td>9.4</td>\n",
       "      <td>29382.0</td>\n",
       "      <td>After escaping execution, the last living Drag...</td>\n",
       "      <td>True</td>\n",
       "      <td>True</td>\n",
       "      <td>False</td>\n",
       "      <td>False</td>\n",
       "      <td>False</td>\n",
       "      <td>True</td>\n",
       "      <td>False</td>\n",
       "      <td>False</td>\n",
       "      <td>False</td>\n",
       "    </tr>\n",
       "    <tr>\n",
       "      <th>4</th>\n",
       "      <td>4</td>\n",
       "      <td>Uncharted 4: A Thief's End</td>\n",
       "      <td>2016.0</td>\n",
       "      <td>T</td>\n",
       "      <td>9.5</td>\n",
       "      <td>28722.0</td>\n",
       "      <td>Thrown back into the dangerous underworld he'd...</td>\n",
       "      <td>True</td>\n",
       "      <td>True</td>\n",
       "      <td>False</td>\n",
       "      <td>False</td>\n",
       "      <td>False</td>\n",
       "      <td>False</td>\n",
       "      <td>False</td>\n",
       "      <td>False</td>\n",
       "      <td>False</td>\n",
       "    </tr>\n",
       "    <tr>\n",
       "      <th>53</th>\n",
       "      <td>53</td>\n",
       "      <td>Batman: Arkham Asylum</td>\n",
       "      <td>2009.0</td>\n",
       "      <td>T</td>\n",
       "      <td>9.2</td>\n",
       "      <td>27584.0</td>\n",
       "      <td>You control Batman as he fights to subdue The ...</td>\n",
       "      <td>True</td>\n",
       "      <td>True</td>\n",
       "      <td>False</td>\n",
       "      <td>True</td>\n",
       "      <td>False</td>\n",
       "      <td>False</td>\n",
       "      <td>False</td>\n",
       "      <td>False</td>\n",
       "      <td>False</td>\n",
       "    </tr>\n",
       "  </tbody>\n",
       "</table>\n",
       "</div>"
      ],
      "text/plain": [
       "    Unnamed: 0                           name    year certificate  rating  \\\n",
       "7            7                 The Last of Us  2013.0           M     9.7   \n",
       "2            2             Grand Theft Auto V  2013.0           M     9.5   \n",
       "17          17  Grand Theft Auto: San Andreas  2004.0           M     9.4   \n",
       "1            1         Red Dead Redemption II  2018.0           M     9.7   \n",
       "41          41            Grand Theft Auto IV  2008.0           M     8.9   \n",
       "42          42            Batman: Arkham City  2011.0           T     9.4   \n",
       "5            5        The Last of Us: Part II  2020.0           M     8.5   \n",
       "36          36    The Elder Scrolls V: Skyrim  2011.0           M     9.4   \n",
       "4            4     Uncharted 4: A Thief's End  2016.0           T     9.5   \n",
       "53          53          Batman: Arkham Asylum  2009.0           T     9.2   \n",
       "\n",
       "      votes                                               plot  Action  \\\n",
       "7   60590.0  In a hostile, post-pandemic world, Joel and El...    True   \n",
       "2   59986.0  Three very different criminals team up for a s...    True   \n",
       "17  39629.0  A family tragedy prompts gangster Carl \"CJ\" Jo...    True   \n",
       "1   35703.0  Amidst the decline of the Wild West at the tur...    True   \n",
       "41  34553.0  Niko Bellic comes to Liberty City, America to ...    True   \n",
       "42  30763.0  When part of Gotham is turned into a private r...    True   \n",
       "5   30460.0  Five years after the events of The Last of Us,...    True   \n",
       "36  29382.0  After escaping execution, the last living Drag...    True   \n",
       "4   28722.0  Thrown back into the dangerous underworld he'd...    True   \n",
       "53  27584.0  You control Batman as he fights to subdue The ...    True   \n",
       "\n",
       "    Adventure  Comedy  Crime  Family  Fantasy  Mystery  Sci-Fi  Thriller  \n",
       "7        True   False  False   False    False    False   False     False  \n",
       "2       False   False   True   False    False    False   False     False  \n",
       "17      False   False   True   False    False    False   False     False  \n",
       "1        True   False   True   False    False    False   False     False  \n",
       "41      False   False   True   False    False    False   False     False  \n",
       "42       True   False   True   False    False    False   False     False  \n",
       "5        True   False  False   False    False    False   False     False  \n",
       "36       True   False  False   False     True    False   False     False  \n",
       "4        True   False  False   False    False    False   False     False  \n",
       "53       True   False   True   False    False    False   False     False  "
      ]
     },
     "execution_count": 13,
     "metadata": {},
     "output_type": "execute_result"
    }
   ],
   "source": [
    "imdb.sort_values(by='votes', ascending=False).head(10)"
   ]
  },
  {
   "cell_type": "code",
   "execution_count": 14,
   "id": "3de0f956",
   "metadata": {
    "execution": {
     "iopub.execute_input": "2022-10-16T03:57:40.323106Z",
     "iopub.status.busy": "2022-10-16T03:57:40.322624Z",
     "iopub.status.idle": "2022-10-16T03:57:41.134188Z",
     "shell.execute_reply": "2022-10-16T03:57:41.132759Z"
    },
    "papermill": {
     "duration": 0.825974,
     "end_time": "2022-10-16T03:57:41.137092",
     "exception": false,
     "start_time": "2022-10-16T03:57:40.311118",
     "status": "completed"
    },
    "tags": []
   },
   "outputs": [
    {
     "data": {
      "image/png": "[encoded data removed]",
      "text/plain": [
       "<Figure size 432x288 with 1 Axes>"
      ]
     },
     "metadata": {
      "needs_background": "light"
     },
     "output_type": "display_data"
    }
   ],
   "source": [
    "vote_hist = sns.histplot(data=imdb, x='votes', log_scale=True).set(title='Vote Distribution')"
   ]
  },
  {
   "cell_type": "markdown",
   "id": "c9d82b09",
   "metadata": {
    "papermill": {
     "duration": 0.009687,
     "end_time": "2022-10-16T03:57:41.156933",
     "exception": false,
     "start_time": "2022-10-16T03:57:41.147246",
     "status": "completed"
    },
    "tags": []
   },
   "source": [
    "### **Insights:**\n",
    "\n",
    "* **Action, Adventure, and Crime are popular genres among the top 10 most popular games**\n",
    "    * Could be because these are popular genres among consumers? Or that just the top 10 games are of these genres? (look at genres outside of top 10)\n",
    "* **Certain franchises seem to be popular**; only 6 of the 10 most popular games are unique series\n",
    "    * Makes sense - if a game does well companies are more inclined to produce sequels\n",
    "    * Most of the Top 10 popular games are sequels, possibly due to graphics improving? or a growing video game consumer market?\n",
    "* **Typically, games tend to stick to ~2 genres.**\n",
    "    * Is this true for all games? Or a product of successful ones?\n",
    "    * Maybe just the method behind how the games were classified?"
   ]
  },
  {
   "cell_type": "markdown",
   "id": "d5cbc565",
   "metadata": {
    "papermill": {
     "duration": 0.009575,
     "end_time": "2022-10-16T03:57:41.176842",
     "exception": false,
     "start_time": "2022-10-16T03:57:41.167267",
     "status": "completed"
    },
    "tags": []
   },
   "source": [
    "### Genre Analysis"
   ]
  },
  {
   "cell_type": "code",
   "execution_count": 15,
   "id": "36d0e03c",
   "metadata": {
    "execution": {
     "iopub.execute_input": "2022-10-16T03:57:41.198841Z",
     "iopub.status.busy": "2022-10-16T03:57:41.198376Z",
     "iopub.status.idle": "2022-10-16T03:57:41.220821Z",
     "shell.execute_reply": "2022-10-16T03:57:41.219522Z"
    },
    "papermill": {
     "duration": 0.036772,
     "end_time": "2022-10-16T03:57:41.223571",
     "exception": false,
     "start_time": "2022-10-16T03:57:41.186799",
     "status": "completed"
    },
    "tags": []
   },
   "outputs": [
    {
     "name": "stdout",
     "output_type": "stream",
     "text": [
      "Genre Breakdown of All Games\n",
      "           Count Percent\n",
      "Action     11047   56.0%\n",
      "Adventure   9657   49.0%\n",
      "Fantasy     4032   20.5%\n",
      "Sci-Fi      3360   17.0%\n",
      "Family      2719   13.8%\n",
      "Comedy      1702    8.6%\n",
      "Mystery     1124    5.7%\n",
      "Crime        798    4.0%\n",
      "Thriller     487    2.5%\n"
     ]
    }
   ],
   "source": [
    "print('Genre Breakdown of All Games')\n",
    "percent_genre = imdb.loc[:, 'Action':'Thriller'].mean().mul(100).round(1).sort_values(ascending=False).astype(str) + ('%')  \n",
    "count_genre = imdb.loc[:, 'Action':'Thriller'].apply(pd.value_counts).iloc[1].sort_values(ascending=False)  \n",
    "\n",
    "genre_distr = pd.DataFrame({'Count': count_genre, 'Percent': percent_genre})\n",
    "print(genre_distr)"
   ]
  },
  {
   "cell_type": "code",
   "execution_count": 16,
   "id": "20421542",
   "metadata": {
    "execution": {
     "iopub.execute_input": "2022-10-16T03:57:41.246100Z",
     "iopub.status.busy": "2022-10-16T03:57:41.245631Z",
     "iopub.status.idle": "2022-10-16T03:57:41.266363Z",
     "shell.execute_reply": "2022-10-16T03:57:41.264755Z"
    },
    "papermill": {
     "duration": 0.035281,
     "end_time": "2022-10-16T03:57:41.269034",
     "exception": false,
     "start_time": "2022-10-16T03:57:41.233753",
     "status": "completed"
    },
    "tags": []
   },
   "outputs": [
    {
     "name": "stdout",
     "output_type": "stream",
     "text": [
      "Genre Breakdown of the Most Popular 100 Games\n"
     ]
    },
    {
     "data": {
      "text/plain": [
       "Action       93.0%\n",
       "Adventure    74.0%\n",
       "Crime        19.0%\n",
       "Fantasy      19.0%\n",
       "Sci-Fi       16.0%\n",
       "Thriller      9.0%\n",
       "Mystery       6.0%\n",
       "Comedy        2.0%\n",
       "Family        1.0%\n",
       "dtype: object"
      ]
     },
     "execution_count": 16,
     "metadata": {},
     "output_type": "execute_result"
    }
   ],
   "source": [
    "pop100 = imdb.sort_values(by='votes', ascending=False).head(100)\n",
    "\n",
    "print('Genre Breakdown of the Most Popular 100 Games')\n",
    "pop100.loc[:, 'Action':'Thriller'].mean().mul(100).round(2).sort_values(ascending=False).astype(str) + ('%')"
   ]
  },
  {
   "cell_type": "markdown",
   "id": "a1ca93e9",
   "metadata": {
    "papermill": {
     "duration": 0.009921,
     "end_time": "2022-10-16T03:57:41.289427",
     "exception": false,
     "start_time": "2022-10-16T03:57:41.279506",
     "status": "completed"
    },
    "tags": []
   },
   "source": [
    "Action and Adventure genres are even more prevalent among the most popular 100 games, while Comedy and Family genres had a sharp decline. Crime went from making up only 7% of all games to 19% of the most popular 100 games. Thriller slightly increased while Sci-Fi and Mystery remained relatively unchanged.\n",
    "\n",
    "Since these percentages are based on votes, we can only speak on the popularity of these genres, rather than their successes. But could popularity be an indicator of a highly-rated game?"
   ]
  },
  {
   "cell_type": "markdown",
   "id": "5b062719",
   "metadata": {
    "papermill": {
     "duration": 0.010211,
     "end_time": "2022-10-16T03:57:41.310194",
     "exception": false,
     "start_time": "2022-10-16T03:57:41.299983",
     "status": "completed"
    },
    "tags": []
   },
   "source": [
    "### Relationship between # of votes and rating"
   ]
  },
  {
   "cell_type": "code",
   "execution_count": 17,
   "id": "784f8d3b",
   "metadata": {
    "execution": {
     "iopub.execute_input": "2022-10-16T03:57:41.332402Z",
     "iopub.status.busy": "2022-10-16T03:57:41.331957Z",
     "iopub.status.idle": "2022-10-16T03:57:41.926219Z",
     "shell.execute_reply": "2022-10-16T03:57:41.924872Z"
    },
    "papermill": {
     "duration": 0.608534,
     "end_time": "2022-10-16T03:57:41.928924",
     "exception": false,
     "start_time": "2022-10-16T03:57:41.320390",
     "status": "completed"
    },
    "tags": []
   },
   "outputs": [
    {
     "data": {
      "image/png": "[encoded data removed]",
      "text/plain": [
       "<Figure size 432x288 with 1 Axes>"
      ]
     },
     "metadata": {
      "needs_background": "light"
     },
     "output_type": "display_data"
    }
   ],
   "source": [
    "vote_plot = sns.scatterplot(data=imdb, x='votes', y='rating').set(title='Votes vs Rating', xscale='log')"
   ]
  },
  {
   "cell_type": "markdown",
   "id": "a0031564",
   "metadata": {
    "papermill": {
     "duration": 0.01209,
     "end_time": "2022-10-16T03:57:41.953080",
     "exception": false,
     "start_time": "2022-10-16T03:57:41.940990",
     "status": "completed"
    },
    "tags": []
   },
   "source": [
    "We can see a large spread of ratings from games with 10-1000 votes. Only after we reach the 1000+ votes mark is there a positive trend between votes and rating. \n",
    "\n",
    "Could there be a significant difference between games in the 10-1000 vote range and games past the 1000 vote mark? If we had the data, something like budget or team size could be interesting to look at."
   ]
  },
  {
   "cell_type": "code",
   "execution_count": 18,
   "id": "11f80b46",
   "metadata": {
    "execution": {
     "iopub.execute_input": "2022-10-16T03:57:41.979073Z",
     "iopub.status.busy": "2022-10-16T03:57:41.978545Z",
     "iopub.status.idle": "2022-10-16T03:57:41.993385Z",
     "shell.execute_reply": "2022-10-16T03:57:41.991540Z"
    },
    "papermill": {
     "duration": 0.03188,
     "end_time": "2022-10-16T03:57:41.997206",
     "exception": false,
     "start_time": "2022-10-16T03:57:41.965326",
     "status": "completed"
    },
    "tags": []
   },
   "outputs": [
    {
     "name": "stdout",
     "output_type": "stream",
     "text": [
      "Median Rating for Games < 1000 Votes: 7.1\n",
      "Median Rating for Games > 1000 Votes: 8.2\n",
      "Median Rating of All Games: 7.2\n"
     ]
    }
   ],
   "source": [
    "low_votes = imdb.loc[imdb.votes <= 1000]\n",
    "high_votes = imdb.loc[imdb.votes > 1000]\n",
    "\n",
    "print(f'Median Rating for Games < 1000 Votes: {low_votes.rating.median()}')\n",
    "print(f'Median Rating for Games > 1000 Votes: {high_votes.rating.median()}')\n",
    "print(f'Median Rating of All Games: {imdb.rating.median()}')"
   ]
  },
  {
   "cell_type": "markdown",
   "id": "b44ec651",
   "metadata": {
    "papermill": {
     "duration": 0.01134,
     "end_time": "2022-10-16T03:57:42.020704",
     "exception": false,
     "start_time": "2022-10-16T03:57:42.009364",
     "status": "completed"
    },
    "tags": []
   },
   "source": [
    "This is an important result because we can use it to assume a relationship with how popular a game is and its rating. As popularity is a measure of success, we can compare statistics/trends to statistics/trends of the most popular games to determine what kind of factors are important in the success of a game."
   ]
  },
  {
   "cell_type": "markdown",
   "id": "acc24055",
   "metadata": {
    "papermill": {
     "duration": 0.011349,
     "end_time": "2022-10-16T03:57:42.043763",
     "exception": false,
     "start_time": "2022-10-16T03:57:42.032414",
     "status": "completed"
    },
    "tags": []
   },
   "source": [
    "### Importance of a Game's Audience"
   ]
  },
  {
   "cell_type": "code",
   "execution_count": 19,
   "id": "8e3dc1e7",
   "metadata": {
    "execution": {
     "iopub.execute_input": "2022-10-16T03:57:42.070321Z",
     "iopub.status.busy": "2022-10-16T03:57:42.069327Z",
     "iopub.status.idle": "2022-10-16T03:57:42.409242Z",
     "shell.execute_reply": "2022-10-16T03:57:42.407936Z"
    },
    "papermill": {
     "duration": 0.356686,
     "end_time": "2022-10-16T03:57:42.412196",
     "exception": false,
     "start_time": "2022-10-16T03:57:42.055510",
     "status": "completed"
    },
    "tags": []
   },
   "outputs": [
    {
     "data": {
      "image/png": "[encoded data removed]",
      "text/plain": [
       "<Figure size 432x288 with 1 Axes>"
      ]
     },
     "metadata": {
      "needs_background": "light"
     },
     "output_type": "display_data"
    }
   ],
   "source": [
    "cert_plot = imdb.certificate.value_counts(normalize=True, ascending=False).plot(kind='bar', title='Proportion of Each Certificate')"
   ]
  },
  {
   "cell_type": "code",
   "execution_count": 20,
   "id": "2e720349",
   "metadata": {
    "execution": {
     "iopub.execute_input": "2022-10-16T03:57:42.438545Z",
     "iopub.status.busy": "2022-10-16T03:57:42.438062Z",
     "iopub.status.idle": "2022-10-16T03:57:42.670612Z",
     "shell.execute_reply": "2022-10-16T03:57:42.669583Z"
    },
    "papermill": {
     "duration": 0.2489,
     "end_time": "2022-10-16T03:57:42.673348",
     "exception": false,
     "start_time": "2022-10-16T03:57:42.424448",
     "status": "completed"
    },
    "tags": []
   },
   "outputs": [
    {
     "data": {
      "image/png": "[encoded data removed]",
      "text/plain": [
       "<Figure size 432x288 with 1 Axes>"
      ]
     },
     "metadata": {
      "needs_background": "light"
     },
     "output_type": "display_data"
    }
   ],
   "source": [
    "cert_plot100 = pop100.certificate.value_counts(normalize=True, ascending=False).plot(kind='bar', title='Proportion of Each Certificate for 100 Popular Games')"
   ]
  },
  {
   "cell_type": "markdown",
   "id": "24a17672",
   "metadata": {
    "papermill": {
     "duration": 0.012044,
     "end_time": "2022-10-16T03:57:42.697902",
     "exception": false,
     "start_time": "2022-10-16T03:57:42.685858",
     "status": "completed"
    },
    "tags": []
   },
   "source": [
    "When considering all games, games catered towards children make up ~65% of the total (E, E10+, T); for the 100 most popular games, people tend to like games catered towards more mature audiences.\n",
    "\n",
    "According to the Entertainment Rating Software Board (ESRB), E (Everyone) and E10+ (Everyone 10+) rated games contain content suitable for all ages and ages 10+, with content limited to minimal cartoon violence, mild language, and minimal use of suggestive themes. T (Teen) rated games contain content suitable for ages 13+ but now allow the use of minimal blood and infrequent use of strong language.\n",
    "\n",
    "M (Mature) rated games contain content suitable for ages 17+ and allow the use of intense violence, blood and gore, sexual content, and strong language.\n",
    "\n",
    "To give an idea of what kind of games fall under these ratings, here are a few of the most popular under each rating."
   ]
  },
  {
   "cell_type": "code",
   "execution_count": 21,
   "id": "3dfed7a8",
   "metadata": {
    "execution": {
     "iopub.execute_input": "2022-10-16T03:57:42.724988Z",
     "iopub.status.busy": "2022-10-16T03:57:42.724454Z",
     "iopub.status.idle": "2022-10-16T03:57:42.763120Z",
     "shell.execute_reply": "2022-10-16T03:57:42.761770Z"
    },
    "papermill": {
     "duration": 0.055452,
     "end_time": "2022-10-16T03:57:42.765741",
     "exception": false,
     "start_time": "2022-10-16T03:57:42.710289",
     "status": "completed"
    },
    "tags": []
   },
   "outputs": [
    {
     "data": {
      "text/html": [
       "<div>\n",
       "<style scoped>\n",
       "    .dataframe tbody tr th:only-of-type {\n",
       "        vertical-align: middle;\n",
       "    }\n",
       "\n",
       "    .dataframe tbody tr th {\n",
       "        vertical-align: top;\n",
       "    }\n",
       "\n",
       "    .dataframe thead th {\n",
       "        text-align: right;\n",
       "    }\n",
       "</style>\n",
       "<table border=\"1\" class=\"dataframe\">\n",
       "  <thead>\n",
       "    <tr style=\"text-align: right;\">\n",
       "      <th></th>\n",
       "      <th>name</th>\n",
       "      <th>certificate</th>\n",
       "      <th>votes</th>\n",
       "      <th>rating</th>\n",
       "    </tr>\n",
       "  </thead>\n",
       "  <tbody>\n",
       "    <tr>\n",
       "      <th>251</th>\n",
       "      <td>The Legend of Zelda: Ocarina of Time</td>\n",
       "      <td>E</td>\n",
       "      <td>9526.0</td>\n",
       "      <td>9.6</td>\n",
       "    </tr>\n",
       "    <tr>\n",
       "      <th>171</th>\n",
       "      <td>Kingdom Hearts</td>\n",
       "      <td>E</td>\n",
       "      <td>7349.0</td>\n",
       "      <td>9.2</td>\n",
       "    </tr>\n",
       "    <tr>\n",
       "      <th>567</th>\n",
       "      <td>Super Mario Galaxy</td>\n",
       "      <td>E</td>\n",
       "      <td>5314.0</td>\n",
       "      <td>9.0</td>\n",
       "    </tr>\n",
       "    <tr>\n",
       "      <th>10023</th>\n",
       "      <td>Portal 2</td>\n",
       "      <td>E10+</td>\n",
       "      <td>15609.0</td>\n",
       "      <td>9.4</td>\n",
       "    </tr>\n",
       "    <tr>\n",
       "      <th>85</th>\n",
       "      <td>Minecraft</td>\n",
       "      <td>E10+</td>\n",
       "      <td>10880.0</td>\n",
       "      <td>8.5</td>\n",
       "    </tr>\n",
       "    <tr>\n",
       "      <th>180</th>\n",
       "      <td>Kingdom Hearts II</td>\n",
       "      <td>E10+</td>\n",
       "      <td>7168.0</td>\n",
       "      <td>9.3</td>\n",
       "    </tr>\n",
       "    <tr>\n",
       "      <th>42</th>\n",
       "      <td>Batman: Arkham City</td>\n",
       "      <td>T</td>\n",
       "      <td>30763.0</td>\n",
       "      <td>9.4</td>\n",
       "    </tr>\n",
       "    <tr>\n",
       "      <th>4</th>\n",
       "      <td>Uncharted 4: A Thief's End</td>\n",
       "      <td>T</td>\n",
       "      <td>28722.0</td>\n",
       "      <td>9.5</td>\n",
       "    </tr>\n",
       "    <tr>\n",
       "      <th>53</th>\n",
       "      <td>Batman: Arkham Asylum</td>\n",
       "      <td>T</td>\n",
       "      <td>27584.0</td>\n",
       "      <td>9.2</td>\n",
       "    </tr>\n",
       "    <tr>\n",
       "      <th>7</th>\n",
       "      <td>The Last of Us</td>\n",
       "      <td>M</td>\n",
       "      <td>60590.0</td>\n",
       "      <td>9.7</td>\n",
       "    </tr>\n",
       "    <tr>\n",
       "      <th>2</th>\n",
       "      <td>Grand Theft Auto V</td>\n",
       "      <td>M</td>\n",
       "      <td>59986.0</td>\n",
       "      <td>9.5</td>\n",
       "    </tr>\n",
       "    <tr>\n",
       "      <th>17</th>\n",
       "      <td>Grand Theft Auto: San Andreas</td>\n",
       "      <td>M</td>\n",
       "      <td>39629.0</td>\n",
       "      <td>9.4</td>\n",
       "    </tr>\n",
       "  </tbody>\n",
       "</table>\n",
       "</div>"
      ],
      "text/plain": [
       "                                       name certificate    votes  rating\n",
       "251    The Legend of Zelda: Ocarina of Time           E   9526.0     9.6\n",
       "171                          Kingdom Hearts           E   7349.0     9.2\n",
       "567                      Super Mario Galaxy           E   5314.0     9.0\n",
       "10023                              Portal 2        E10+  15609.0     9.4\n",
       "85                                Minecraft        E10+  10880.0     8.5\n",
       "180                       Kingdom Hearts II        E10+   7168.0     9.3\n",
       "42                      Batman: Arkham City           T  30763.0     9.4\n",
       "4                Uncharted 4: A Thief's End           T  28722.0     9.5\n",
       "53                    Batman: Arkham Asylum           T  27584.0     9.2\n",
       "7                            The Last of Us           M  60590.0     9.7\n",
       "2                        Grand Theft Auto V           M  59986.0     9.5\n",
       "17            Grand Theft Auto: San Andreas           M  39629.0     9.4"
      ]
     },
     "execution_count": 21,
     "metadata": {},
     "output_type": "execute_result"
    }
   ],
   "source": [
    "top3_E = imdb.loc[imdb.certificate == 'E'].sort_values(by='votes', ascending=False).head(3)\n",
    "top3_E10 = imdb.loc[imdb.certificate == 'E10+'].sort_values(by='votes', ascending=False).head(3)\n",
    "top3_T = imdb.loc[imdb.certificate == 'T'].sort_values(by='votes', ascending=False).head(3)\n",
    "top3_M = imdb.loc[imdb.certificate == 'M'].sort_values(by='votes', ascending=False).head(3)\n",
    "\n",
    "top3_certs = [top3_E, top3_E10, top3_T, top3_M]\n",
    "certs_df = pd.concat(top3_certs)\n",
    "certs_df.loc[:, ['name', 'certificate', 'votes', 'rating']]"
   ]
  },
  {
   "cell_type": "markdown",
   "id": "8377d762",
   "metadata": {
    "papermill": {
     "duration": 0.012213,
     "end_time": "2022-10-16T03:57:42.790507",
     "exception": false,
     "start_time": "2022-10-16T03:57:42.778294",
     "status": "completed"
    },
    "tags": []
   },
   "source": [
    "It's interesting to see that as the games get progressively more explicit, popularity increases too. This could be in part due to how survey data was collected; rating a game on IMDB requires the user to have an IMDB account. Games catered towards children are probably not going to have a large portion of their audience rating their game on IMDB. What kind of 10-year old even knows what IMDB is, let alone has an IMDB account?\n",
    "\n",
    "Taken from IMDB:\n",
    "As of 10/10/22, Minecraft has 11,110 votes, and 3,969 votes are from users that have chosen to provide their age. Of those 3,969 votes:\n",
    "\n",
    "**< 18:** 84\n",
    "\n",
    "**18-29:** 2,136\n",
    "\n",
    "**30-44:** 1,416\n",
    "\n",
    "**45+:** 333\n",
    "\n",
    "**From this, we can infer that conclusions taken from this dataset speak mainly on the opinons of more mature audiences.**"
   ]
  },
  {
   "cell_type": "code",
   "execution_count": 22,
   "id": "2af12679",
   "metadata": {
    "execution": {
     "iopub.execute_input": "2022-10-16T03:57:42.818887Z",
     "iopub.status.busy": "2022-10-16T03:57:42.817615Z",
     "iopub.status.idle": "2022-10-16T03:57:43.143735Z",
     "shell.execute_reply": "2022-10-16T03:57:43.142296Z"
    },
    "papermill": {
     "duration": 0.343079,
     "end_time": "2022-10-16T03:57:43.146408",
     "exception": false,
     "start_time": "2022-10-16T03:57:42.803329",
     "status": "completed"
    },
    "tags": []
   },
   "outputs": [
    {
     "data": {
      "text/plain": [
       "<AxesSubplot:title={'center':'Proportion of Each Certificate for Action Games'}>"
      ]
     },
     "execution_count": 22,
     "metadata": {},
     "output_type": "execute_result"
    },
    {
     "data": {
      "image/png": "[encoded data removed]",
      "text/plain": [
       "<Figure size 432x288 with 1 Axes>"
      ]
     },
     "metadata": {
      "needs_background": "light"
     },
     "output_type": "display_data"
    }
   ],
   "source": [
    "imdb_action = imdb.loc[imdb.Action == True]\n",
    "imdb_action100 = imdb.loc[imdb.Action == True].sort_values(by = 'votes', ascending=False).head(100)\n",
    "\n",
    "imdb_action.certificate.value_counts(normalize=True, ascending=False).plot(kind='bar', title='Proportion of Each Certificate for Action Games')"
   ]
  },
  {
   "cell_type": "code",
   "execution_count": 23,
   "id": "3420567a",
   "metadata": {
    "execution": {
     "iopub.execute_input": "2022-10-16T03:57:43.175722Z",
     "iopub.status.busy": "2022-10-16T03:57:43.175243Z",
     "iopub.status.idle": "2022-10-16T03:57:43.408714Z",
     "shell.execute_reply": "2022-10-16T03:57:43.407318Z"
    },
    "papermill": {
     "duration": 0.251356,
     "end_time": "2022-10-16T03:57:43.411545",
     "exception": false,
     "start_time": "2022-10-16T03:57:43.160189",
     "status": "completed"
    },
    "tags": []
   },
   "outputs": [
    {
     "data": {
      "text/plain": [
       "<AxesSubplot:title={'center':'Proportion of Each Certificate for Top 100 Popular Action Games'}>"
      ]
     },
     "execution_count": 23,
     "metadata": {},
     "output_type": "execute_result"
    },
    {
     "data": {
      "image/png": "[encoded data removed]",
      "text/plain": [
       "<Figure size 432x288 with 1 Axes>"
      ]
     },
     "metadata": {
      "needs_background": "light"
     },
     "output_type": "display_data"
    }
   ],
   "source": [
    "imdb_action100.certificate.value_counts(normalize=True, ascending=False).plot(kind='bar', title='Proportion of Each Certificate for Top 100 Popular Action Games')"
   ]
  },
  {
   "cell_type": "markdown",
   "id": "c34be6b3",
   "metadata": {
    "papermill": {
     "duration": 0.013058,
     "end_time": "2022-10-16T03:57:43.438611",
     "exception": false,
     "start_time": "2022-10-16T03:57:43.425553",
     "status": "completed"
    },
    "tags": []
   },
   "source": [
    "### **Insights**\n",
    "\n",
    "* **When looking at the distribution of genres across all games vs the 100 most popular games, we found that action and adventure games were dominant in both categories. However, the distribution of certificates is vastly different.**\n",
    "    * This indicates that it's not only important to consider genre, but also who you cater your game to. In other words, action games are popular, but an older audience prefers action games catered towards mature audiences with mature themes and gameplay.\n"
   ]
  }
 ],
 "metadata": {
  "kernelspec": {
   "display_name": "Python 3",
   "language": "python",
   "name": "python3"
  },
  "language_info": {
   "codemirror_mode": {
    "name": "ipython",
    "version": 3
   },
   "file_extension": ".py",
   "mimetype": "text/x-python",
   "name": "python",
   "nbconvert_exporter": "python",
   "pygments_lexer": "ipython3",
   "version": "3.7.12"
  },
  "papermill": {
   "default_parameters": {},
   "duration": 19.750801,
   "end_time": "2022-10-16T03:57:44.780760",
   "environment_variables": {},
   "exception": null,
   "input_path": "__notebook__.ipynb",
   "output_path": "__notebook__.ipynb",
   "parameters": {},
   "start_time": "2022-10-16T03:57:25.029959",
   "version": "2.3.4"
  }
 },
 "nbformat": 4,
 "nbformat_minor": 5
}
